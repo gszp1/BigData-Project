{
 "cells": [
  {
   "cell_type": "code",
   "id": "a3b37e8d5ede81e1",
   "metadata": {
    "ExecuteTime": {
     "end_time": "2024-12-17T14:00:01.468616Z",
     "start_time": "2024-12-17T14:00:01.462168Z"
    }
   },
   "source": [
    "import os\n",
    "os.environ['SPARK_HOME'] = '/mnt/c/spark'\n",
    "print(os.environ.get('SPARK_HOME'))"
   ],
   "outputs": [
    {
     "name": "stdout",
     "output_type": "stream",
     "text": [
      "/mnt/c/spark\n"
     ]
    }
   ],
   "execution_count": 1
  },
  {
   "cell_type": "code",
   "id": "8487a265-15d7-44f7-8abe-12b975634a72",
   "metadata": {
    "ExecuteTime": {
     "end_time": "2024-12-17T14:00:05.211931Z",
     "start_time": "2024-12-17T14:00:03.865487Z"
    }
   },
   "source": [
    "from pyspark.sql.types import IntegerType, DoubleType\n",
    "from pyspark.ml.feature import StringIndexer\n",
    "from pyspark.ml import Pipeline\n",
    "from pyspark.sql import SparkSession\n",
    "from pyspark.sql import functions as F\n",
    "import seaborn as sns\n",
    "import matplotlib.pyplot as plt\n",
    "import matplotlib.ticker as ticker\n",
    "from pyspark.sql.functions import col, regexp_replace"
   ],
   "outputs": [],
   "execution_count": 2
  },
  {
   "cell_type": "code",
   "id": "initial_id",
   "metadata": {
    "ExecuteTime": {
     "end_time": "2024-12-17T14:00:18.717160Z",
     "start_time": "2024-12-17T14:00:18.573940Z"
    }
   },
   "source": "spark = SparkSession.builder.appName('Preprocessing').getOrCreate()",
   "outputs": [
    {
     "ename": "FileNotFoundError",
     "evalue": "[WinError 2] Nie można odnaleźć określonego pliku",
     "output_type": "error",
     "traceback": [
      "\u001B[1;31m---------------------------------------------------------------------------\u001B[0m",
      "\u001B[1;31mFileNotFoundError\u001B[0m                         Traceback (most recent call last)",
      "Cell \u001B[1;32mIn[4], line 1\u001B[0m\n\u001B[1;32m----> 1\u001B[0m spark \u001B[38;5;241m=\u001B[39m SparkSession\u001B[38;5;241m.\u001B[39mbuilder\u001B[38;5;241m.\u001B[39mappName(\u001B[38;5;124m'\u001B[39m\u001B[38;5;124mPreprocessing\u001B[39m\u001B[38;5;124m'\u001B[39m)\u001B[38;5;241m.\u001B[39mgetOrCreate()\n",
      "File \u001B[1;32mC:\\spark\\python\\lib\\pyspark.zip\\pyspark\\sql\\session.py:497\u001B[0m, in \u001B[0;36mSparkSession.Builder.getOrCreate\u001B[1;34m(self)\u001B[0m\n\u001B[0;32m    495\u001B[0m     sparkConf\u001B[38;5;241m.\u001B[39mset(key, value)\n\u001B[0;32m    496\u001B[0m \u001B[38;5;66;03m# This SparkContext may be an existing one.\u001B[39;00m\n\u001B[1;32m--> 497\u001B[0m sc \u001B[38;5;241m=\u001B[39m SparkContext\u001B[38;5;241m.\u001B[39mgetOrCreate(sparkConf)\n\u001B[0;32m    498\u001B[0m \u001B[38;5;66;03m# Do not update `SparkConf` for existing `SparkContext`, as it's shared\u001B[39;00m\n\u001B[0;32m    499\u001B[0m \u001B[38;5;66;03m# by all sessions.\u001B[39;00m\n\u001B[0;32m    500\u001B[0m session \u001B[38;5;241m=\u001B[39m SparkSession(sc, options\u001B[38;5;241m=\u001B[39m\u001B[38;5;28mself\u001B[39m\u001B[38;5;241m.\u001B[39m_options)\n",
      "File \u001B[1;32mC:\\spark\\python\\lib\\pyspark.zip\\pyspark\\context.py:515\u001B[0m, in \u001B[0;36mSparkContext.getOrCreate\u001B[1;34m(cls, conf)\u001B[0m\n\u001B[0;32m    513\u001B[0m \u001B[38;5;28;01mwith\u001B[39;00m SparkContext\u001B[38;5;241m.\u001B[39m_lock:\n\u001B[0;32m    514\u001B[0m     \u001B[38;5;28;01mif\u001B[39;00m SparkContext\u001B[38;5;241m.\u001B[39m_active_spark_context \u001B[38;5;129;01mis\u001B[39;00m \u001B[38;5;28;01mNone\u001B[39;00m:\n\u001B[1;32m--> 515\u001B[0m         SparkContext(conf\u001B[38;5;241m=\u001B[39mconf \u001B[38;5;129;01mor\u001B[39;00m SparkConf())\n\u001B[0;32m    516\u001B[0m     \u001B[38;5;28;01massert\u001B[39;00m SparkContext\u001B[38;5;241m.\u001B[39m_active_spark_context \u001B[38;5;129;01mis\u001B[39;00m \u001B[38;5;129;01mnot\u001B[39;00m \u001B[38;5;28;01mNone\u001B[39;00m\n\u001B[0;32m    517\u001B[0m     \u001B[38;5;28;01mreturn\u001B[39;00m SparkContext\u001B[38;5;241m.\u001B[39m_active_spark_context\n",
      "File \u001B[1;32mC:\\spark\\python\\lib\\pyspark.zip\\pyspark\\context.py:201\u001B[0m, in \u001B[0;36mSparkContext.__init__\u001B[1;34m(self, master, appName, sparkHome, pyFiles, environment, batchSize, serializer, conf, gateway, jsc, profiler_cls, udf_profiler_cls, memory_profiler_cls)\u001B[0m\n\u001B[0;32m    195\u001B[0m \u001B[38;5;28;01mif\u001B[39;00m gateway \u001B[38;5;129;01mis\u001B[39;00m \u001B[38;5;129;01mnot\u001B[39;00m \u001B[38;5;28;01mNone\u001B[39;00m \u001B[38;5;129;01mand\u001B[39;00m gateway\u001B[38;5;241m.\u001B[39mgateway_parameters\u001B[38;5;241m.\u001B[39mauth_token \u001B[38;5;129;01mis\u001B[39;00m \u001B[38;5;28;01mNone\u001B[39;00m:\n\u001B[0;32m    196\u001B[0m     \u001B[38;5;28;01mraise\u001B[39;00m \u001B[38;5;167;01mValueError\u001B[39;00m(\n\u001B[0;32m    197\u001B[0m         \u001B[38;5;124m\"\u001B[39m\u001B[38;5;124mYou are trying to pass an insecure Py4j gateway to Spark. This\u001B[39m\u001B[38;5;124m\"\u001B[39m\n\u001B[0;32m    198\u001B[0m         \u001B[38;5;124m\"\u001B[39m\u001B[38;5;124m is not allowed as it is a security risk.\u001B[39m\u001B[38;5;124m\"\u001B[39m\n\u001B[0;32m    199\u001B[0m     )\n\u001B[1;32m--> 201\u001B[0m SparkContext\u001B[38;5;241m.\u001B[39m_ensure_initialized(\u001B[38;5;28mself\u001B[39m, gateway\u001B[38;5;241m=\u001B[39mgateway, conf\u001B[38;5;241m=\u001B[39mconf)\n\u001B[0;32m    202\u001B[0m \u001B[38;5;28;01mtry\u001B[39;00m:\n\u001B[0;32m    203\u001B[0m     \u001B[38;5;28mself\u001B[39m\u001B[38;5;241m.\u001B[39m_do_init(\n\u001B[0;32m    204\u001B[0m         master,\n\u001B[0;32m    205\u001B[0m         appName,\n\u001B[1;32m   (...)\u001B[0m\n\u001B[0;32m    215\u001B[0m         memory_profiler_cls,\n\u001B[0;32m    216\u001B[0m     )\n",
      "File \u001B[1;32mC:\\spark\\python\\lib\\pyspark.zip\\pyspark\\context.py:436\u001B[0m, in \u001B[0;36mSparkContext._ensure_initialized\u001B[1;34m(cls, instance, gateway, conf)\u001B[0m\n\u001B[0;32m    434\u001B[0m \u001B[38;5;28;01mwith\u001B[39;00m SparkContext\u001B[38;5;241m.\u001B[39m_lock:\n\u001B[0;32m    435\u001B[0m     \u001B[38;5;28;01mif\u001B[39;00m \u001B[38;5;129;01mnot\u001B[39;00m SparkContext\u001B[38;5;241m.\u001B[39m_gateway:\n\u001B[1;32m--> 436\u001B[0m         SparkContext\u001B[38;5;241m.\u001B[39m_gateway \u001B[38;5;241m=\u001B[39m gateway \u001B[38;5;129;01mor\u001B[39;00m launch_gateway(conf)\n\u001B[0;32m    437\u001B[0m         SparkContext\u001B[38;5;241m.\u001B[39m_jvm \u001B[38;5;241m=\u001B[39m SparkContext\u001B[38;5;241m.\u001B[39m_gateway\u001B[38;5;241m.\u001B[39mjvm\n\u001B[0;32m    439\u001B[0m     \u001B[38;5;28;01mif\u001B[39;00m instance:\n",
      "File \u001B[1;32mC:\\spark\\python\\lib\\pyspark.zip\\pyspark\\java_gateway.py:100\u001B[0m, in \u001B[0;36mlaunch_gateway\u001B[1;34m(conf, popen_kwargs)\u001B[0m\n\u001B[0;32m     97\u001B[0m     proc \u001B[38;5;241m=\u001B[39m Popen(command, \u001B[38;5;241m*\u001B[39m\u001B[38;5;241m*\u001B[39mpopen_kwargs)\n\u001B[0;32m     98\u001B[0m \u001B[38;5;28;01melse\u001B[39;00m:\n\u001B[0;32m     99\u001B[0m     \u001B[38;5;66;03m# preexec_fn not supported on Windows\u001B[39;00m\n\u001B[1;32m--> 100\u001B[0m     proc \u001B[38;5;241m=\u001B[39m Popen(command, \u001B[38;5;241m*\u001B[39m\u001B[38;5;241m*\u001B[39mpopen_kwargs)\n\u001B[0;32m    102\u001B[0m \u001B[38;5;66;03m# Wait for the file to appear, or for the process to exit, whichever happens first.\u001B[39;00m\n\u001B[0;32m    103\u001B[0m \u001B[38;5;28;01mwhile\u001B[39;00m \u001B[38;5;129;01mnot\u001B[39;00m proc\u001B[38;5;241m.\u001B[39mpoll() \u001B[38;5;129;01mand\u001B[39;00m \u001B[38;5;129;01mnot\u001B[39;00m os\u001B[38;5;241m.\u001B[39mpath\u001B[38;5;241m.\u001B[39misfile(conn_info_file):\n",
      "File \u001B[1;32m~\\anaconda3\\Lib\\subprocess.py:1026\u001B[0m, in \u001B[0;36mPopen.__init__\u001B[1;34m(self, args, bufsize, executable, stdin, stdout, stderr, preexec_fn, close_fds, shell, cwd, env, universal_newlines, startupinfo, creationflags, restore_signals, start_new_session, pass_fds, user, group, extra_groups, encoding, errors, text, umask, pipesize, process_group)\u001B[0m\n\u001B[0;32m   1022\u001B[0m         \u001B[38;5;28;01mif\u001B[39;00m \u001B[38;5;28mself\u001B[39m\u001B[38;5;241m.\u001B[39mtext_mode:\n\u001B[0;32m   1023\u001B[0m             \u001B[38;5;28mself\u001B[39m\u001B[38;5;241m.\u001B[39mstderr \u001B[38;5;241m=\u001B[39m io\u001B[38;5;241m.\u001B[39mTextIOWrapper(\u001B[38;5;28mself\u001B[39m\u001B[38;5;241m.\u001B[39mstderr,\n\u001B[0;32m   1024\u001B[0m                     encoding\u001B[38;5;241m=\u001B[39mencoding, errors\u001B[38;5;241m=\u001B[39merrors)\n\u001B[1;32m-> 1026\u001B[0m     \u001B[38;5;28mself\u001B[39m\u001B[38;5;241m.\u001B[39m_execute_child(args, executable, preexec_fn, close_fds,\n\u001B[0;32m   1027\u001B[0m                         pass_fds, cwd, env,\n\u001B[0;32m   1028\u001B[0m                         startupinfo, creationflags, shell,\n\u001B[0;32m   1029\u001B[0m                         p2cread, p2cwrite,\n\u001B[0;32m   1030\u001B[0m                         c2pread, c2pwrite,\n\u001B[0;32m   1031\u001B[0m                         errread, errwrite,\n\u001B[0;32m   1032\u001B[0m                         restore_signals,\n\u001B[0;32m   1033\u001B[0m                         gid, gids, uid, umask,\n\u001B[0;32m   1034\u001B[0m                         start_new_session, process_group)\n\u001B[0;32m   1035\u001B[0m \u001B[38;5;28;01mexcept\u001B[39;00m:\n\u001B[0;32m   1036\u001B[0m     \u001B[38;5;66;03m# Cleanup if the child failed starting.\u001B[39;00m\n\u001B[0;32m   1037\u001B[0m     \u001B[38;5;28;01mfor\u001B[39;00m f \u001B[38;5;129;01min\u001B[39;00m \u001B[38;5;28mfilter\u001B[39m(\u001B[38;5;28;01mNone\u001B[39;00m, (\u001B[38;5;28mself\u001B[39m\u001B[38;5;241m.\u001B[39mstdin, \u001B[38;5;28mself\u001B[39m\u001B[38;5;241m.\u001B[39mstdout, \u001B[38;5;28mself\u001B[39m\u001B[38;5;241m.\u001B[39mstderr)):\n",
      "File \u001B[1;32m~\\anaconda3\\Lib\\subprocess.py:1538\u001B[0m, in \u001B[0;36mPopen._execute_child\u001B[1;34m(self, args, executable, preexec_fn, close_fds, pass_fds, cwd, env, startupinfo, creationflags, shell, p2cread, p2cwrite, c2pread, c2pwrite, errread, errwrite, unused_restore_signals, unused_gid, unused_gids, unused_uid, unused_umask, unused_start_new_session, unused_process_group)\u001B[0m\n\u001B[0;32m   1536\u001B[0m \u001B[38;5;66;03m# Start the process\u001B[39;00m\n\u001B[0;32m   1537\u001B[0m \u001B[38;5;28;01mtry\u001B[39;00m:\n\u001B[1;32m-> 1538\u001B[0m     hp, ht, pid, tid \u001B[38;5;241m=\u001B[39m _winapi\u001B[38;5;241m.\u001B[39mCreateProcess(executable, args,\n\u001B[0;32m   1539\u001B[0m                              \u001B[38;5;66;03m# no special security\u001B[39;00m\n\u001B[0;32m   1540\u001B[0m                              \u001B[38;5;28;01mNone\u001B[39;00m, \u001B[38;5;28;01mNone\u001B[39;00m,\n\u001B[0;32m   1541\u001B[0m                              \u001B[38;5;28mint\u001B[39m(\u001B[38;5;129;01mnot\u001B[39;00m close_fds),\n\u001B[0;32m   1542\u001B[0m                              creationflags,\n\u001B[0;32m   1543\u001B[0m                              env,\n\u001B[0;32m   1544\u001B[0m                              cwd,\n\u001B[0;32m   1545\u001B[0m                              startupinfo)\n\u001B[0;32m   1546\u001B[0m \u001B[38;5;28;01mfinally\u001B[39;00m:\n\u001B[0;32m   1547\u001B[0m     \u001B[38;5;66;03m# Child is launched. Close the parent's copy of those pipe\u001B[39;00m\n\u001B[0;32m   1548\u001B[0m     \u001B[38;5;66;03m# handles that only the child should have open.  You need\u001B[39;00m\n\u001B[1;32m   (...)\u001B[0m\n\u001B[0;32m   1551\u001B[0m     \u001B[38;5;66;03m# pipe will not close when the child process exits and the\u001B[39;00m\n\u001B[0;32m   1552\u001B[0m     \u001B[38;5;66;03m# ReadFile will hang.\u001B[39;00m\n\u001B[0;32m   1553\u001B[0m     \u001B[38;5;28mself\u001B[39m\u001B[38;5;241m.\u001B[39m_close_pipe_fds(p2cread, p2cwrite,\n\u001B[0;32m   1554\u001B[0m                          c2pread, c2pwrite,\n\u001B[0;32m   1555\u001B[0m                          errread, errwrite)\n",
      "\u001B[1;31mFileNotFoundError\u001B[0m: [WinError 2] Nie można odnaleźć określonego pliku"
     ]
    }
   ],
   "execution_count": 4
  },
  {
   "cell_type": "code",
   "execution_count": 98,
   "id": "aa7c9e84-7e88-4b6a-9f29-950cf110a010",
   "metadata": {},
   "outputs": [
    {
     "name": "stdout",
     "output_type": "stream",
     "text": [
      "Size of dataset: 188533\n"
     ]
    },
    {
     "name": "stderr",
     "output_type": "stream",
     "text": [
      "[Stage 877:>                                                        (0 + 1) / 1]"
     ]
    },
    {
     "name": "stdout",
     "output_type": "stream",
     "text": [
      "Size of dataset: 162610\n"
     ]
    },
    {
     "name": "stderr",
     "output_type": "stream",
     "text": [
      "                                                                                "
     ]
    }
   ],
   "source": [
    "df = spark.read.csv(\"raw_datasets/train.csv\", sep = ',', header=True)\n",
    "print(f\"Size of dataset: {df.count()}\")\n",
    "df = df.dropna()\n",
    "print(f\"Size of dataset: {df.count()}\")\n",
    "\n",
    "df = df.withColumn(\"model_year\", col(\"model_year\").cast(IntegerType())) \\\n",
    "               .withColumn(\"milage\", col(\"milage\").cast(DoubleType())) \\\n",
    "                .withColumn(\"price\", col(\"price\").cast(IntegerType()))"
   ]
  },
  {
   "cell_type": "markdown",
   "id": "74de2c3d745967a4",
   "metadata": {},
   "source": [
    "### Detecting and removing outliers"
   ]
  },
  {
   "cell_type": "code",
   "execution_count": 99,
   "id": "9aae788dc4431174",
   "metadata": {
    "ExecuteTime": {
     "end_time": "2024-12-16T22:34:45.577498Z",
     "start_time": "2024-12-16T22:34:41.679259Z"
    }
   },
   "outputs": [
    {
     "name": "stderr",
     "output_type": "stream",
     "text": [
      "                                                                                "
     ]
    },
    {
     "data": {
      "image/png": "[encoded data removed]",
      "text/plain": [
       "<Figure size 1200x1000 with 2 Axes>"
      ]
     },
     "metadata": {},
     "output_type": "display_data"
    }
   ],
   "source": [
    "df_price = df.select(\"price\").toPandas()\n",
    "df_milage = df.select(\"milage\").toPandas()\n",
    "\n",
    "fig, axes = plt.subplots(2, 1, figsize=(12, 10))\n",
    "\n",
    "# Plot for 'price' in the first subplot\n",
    "sns.boxplot(x=df_price[\"price\"], color='lightblue', ax=axes[0])\n",
    "axes[0].set_xlabel('Price (in USD million)')\n",
    "axes[0].set_title('Boxplot of Car Prices (with Outliers)')\n",
    "\n",
    "# Plot for 'milage' in the second subplot\n",
    "sns.boxplot(x=df_milage[\"milage\"], color='lightblue', ax=axes[1])\n",
    "axes[1].set_xlabel('Milage (in miles)')\n",
    "axes[1].set_title('Boxplot of Car Mileages (with Outliers)')\n",
    "\n",
    "# Adjust spacing between subplots\n",
    "plt.tight_layout()\n",
    "\n",
    "# Save the combined figure\n",
    "plt.savefig(\"charts/boxplots_with_outlires.png\", bbox_inches=\"tight\")\n",
    "\n",
    "# Show the figure\n",
    "plt.show()"
   ]
  },
  {
   "cell_type": "code",
   "execution_count": 100,
   "id": "779b5089bb370222",
   "metadata": {
    "ExecuteTime": {
     "end_time": "2024-12-16T22:34:48.874080Z",
     "start_time": "2024-12-16T22:34:45.604411Z"
    }
   },
   "outputs": [
    {
     "name": "stderr",
     "output_type": "stream",
     "text": [
      "                                                                                "
     ]
    },
    {
     "name": "stdout",
     "output_type": "stream",
     "text": [
      "Size of dataset: 147857\n"
     ]
    },
    {
     "name": "stderr",
     "output_type": "stream",
     "text": [
      "                                                                                "
     ]
    }
   ],
   "source": [
    "# Detect outliers based on 'price' and 'milage'\n",
    "q1_price, q3_price = df.approxQuantile(\"price\", [0.25, 0.75], 0.05)\n",
    "q1_milage, q3_milage = df.approxQuantile(\"milage\", [0.25, 0.75], 0.05)\n",
    "\n",
    "iqr_price = q3_price - q1_price\n",
    "iqr_milage = q3_milage - q1_milage\n",
    "\n",
    "# Define bounds for each column\n",
    "lower_bound_price = q1_price - 1.5 * iqr_price\n",
    "upper_bound_price = q3_price + 1.5 * iqr_price\n",
    "\n",
    "lower_bound_milage = q1_milage - 1.5 * iqr_milage\n",
    "upper_bound_milage = q3_milage + 1.5 * iqr_milage\n",
    "\n",
    "# Filter out rows where either 'price' or 'milage' are outliers\n",
    "filtered_df_multi = df.filter(\n",
    "    (df[\"price\"] >= lower_bound_price) & (df[\"price\"] <= upper_bound_price) &\n",
    "    (df[\"milage\"] >= lower_bound_milage) & (df[\"milage\"] <= upper_bound_milage)\n",
    ")\n",
    "df = filtered_df_multi\n",
    "print(f\"Size of dataset: {df.count()}\")"
   ]
  },
  {
   "cell_type": "code",
   "execution_count": 115,
   "id": "2b38eb783148e6b7",
   "metadata": {
    "ExecuteTime": {
     "end_time": "2024-12-16T22:35:04.308301Z",
     "start_time": "2024-12-16T22:35:00.399779Z"
    }
   },
   "outputs": [
    {
     "name": "stderr",
     "output_type": "stream",
     "text": [
      "                                                                                "
     ]
    },
    {
     "data": {
      "image/png": "[encoded data removed]",
      "text/plain": [
       "<Figure size 1200x1000 with 2 Axes>"
      ]
     },
     "metadata": {},
     "output_type": "display_data"
    }
   ],
   "source": [
    "df_price = df.select(\"price\").toPandas()\n",
    "df_milage = df.select(\"milage\").toPandas()\n",
    "\n",
    "fig, axes = plt.subplots(2, 1, figsize=(12, 10))\n",
    "\n",
    "# Plot for 'price' in the first subplot\n",
    "sns.boxplot(x=df_price[\"price\"], color='lightblue', ax=axes[0])\n",
    "axes[0].set_xlabel('Price (in USD)')\n",
    "axes[0].set_title('Boxplot of Car Prices (without Outliers)')\n",
    "\n",
    "# Plot for 'milage' in the second subplot\n",
    "sns.boxplot(x=df_milage[\"milage\"], color='lightblue', ax=axes[1])\n",
    "axes[1].set_xlabel('Milage (in miles)')\n",
    "axes[1].set_title('Boxplot of Car Mileages (without Outliers)')\n",
    "\n",
    "# Adjust spacing between subplots\n",
    "plt.tight_layout()\n",
    "\n",
    "# Save the combined figure\n",
    "plt.savefig(\"charts/boxplots_without_outlires.png\", bbox_inches=\"tight\")\n",
    "\n",
    "# Show the figure\n",
    "plt.show()"
   ]
  },
  {
   "cell_type": "code",
   "execution_count": 102,
   "id": "d272847cacfad3e0",
   "metadata": {
    "ExecuteTime": {
     "end_time": "2024-12-16T22:35:11.258647Z",
     "start_time": "2024-12-16T22:35:11.152190Z"
    }
   },
   "outputs": [
    {
     "name": "stdout",
     "output_type": "stream",
     "text": [
      "+---+---------+-----------------+----------+--------+-------------+--------------------+--------------------+-------+-------+--------------------+-----------+-----+\n",
      "| id|    brand|            model|model_year|  milage|    fuel_type|              engine|        transmission|ext_col|int_col|            accident|clean_title|price|\n",
      "+---+---------+-----------------+----------+--------+-------------+--------------------+--------------------+-------+-------+--------------------+-----------+-----+\n",
      "|  1|  Lincoln|            LS V8|      2002|143250.0|     Gasoline|252.0HP 3.9L 8 Cy...|                 A/T| Silver|  Beige|At least 1 accide...|        Yes| 4999|\n",
      "|  2|Chevrolet|Silverado 2500 LT|      2002|136731.0|E85 Flex Fuel|320.0HP 5.3L 8 Cy...|                 A/T|   Blue|   Gray|       None reported|        Yes|13900|\n",
      "|  3|  Genesis| G90 5.0 Ultimate|      2017| 19500.0|     Gasoline|420.0HP 5.0L 8 Cy...|Transmission w/Du...|  Black|  Black|       None reported|        Yes|45000|\n",
      "|  5|     Audi|    A6 2.0T Sport|      2018| 40950.0|     Gasoline|252.0HP 2.0L 4 Cy...|                 A/T|  White|      –|       None reported|        Yes|29950|\n",
      "|  6|     Audi|        A8 L 3.0T|      2016| 62200.0|     Gasoline|333.0HP 3.0L V6 C...|         8-Speed A/T|  Black|  Black|       None reported|        Yes|28500|\n",
      "+---+---------+-----------------+----------+--------+-------------+--------------------+--------------------+-------+-------+--------------------+-----------+-----+\n",
      "only showing top 5 rows\n",
      "\n"
     ]
    }
   ],
   "source": [
    "df.show(5)"
   ]
  },
  {
   "cell_type": "code",
   "execution_count": 103,
   "id": "1a872503aafedd13",
   "metadata": {
    "ExecuteTime": {
     "end_time": "2024-12-16T22:35:29.130724Z",
     "start_time": "2024-12-16T22:35:14.109410Z"
    }
   },
   "outputs": [
    {
     "name": "stdout",
     "output_type": "stream",
     "text": [
      "['id', 'brand', 'model', 'model_year', 'milage', 'fuel_type', 'engine', 'transmission', 'ext_col', 'int_col', 'accident', 'clean_title', 'price']\n"
     ]
    },
    {
     "name": "stderr",
     "output_type": "stream",
     "text": [
      "                                                                                "
     ]
    },
    {
     "name": "stdout",
     "output_type": "stream",
     "text": [
      "distinct values in id: 147857\n"
     ]
    },
    {
     "name": "stderr",
     "output_type": "stream",
     "text": [
      "                                                                                "
     ]
    },
    {
     "name": "stdout",
     "output_type": "stream",
     "text": [
      "distinct values in brand: 57\n"
     ]
    },
    {
     "name": "stderr",
     "output_type": "stream",
     "text": [
      "                                                                                "
     ]
    },
    {
     "name": "stdout",
     "output_type": "stream",
     "text": [
      "distinct values in model: 1879\n"
     ]
    },
    {
     "name": "stderr",
     "output_type": "stream",
     "text": [
      "                                                                                "
     ]
    },
    {
     "name": "stdout",
     "output_type": "stream",
     "text": [
      "distinct values in model_year: 34\n"
     ]
    },
    {
     "name": "stderr",
     "output_type": "stream",
     "text": [
      "                                                                                "
     ]
    },
    {
     "name": "stdout",
     "output_type": "stream",
     "text": [
      "distinct values in milage: 5453\n"
     ]
    },
    {
     "name": "stderr",
     "output_type": "stream",
     "text": [
      "                                                                                "
     ]
    },
    {
     "name": "stdout",
     "output_type": "stream",
     "text": [
      "distinct values in fuel_type: 7\n"
     ]
    },
    {
     "name": "stderr",
     "output_type": "stream",
     "text": [
      "                                                                                "
     ]
    },
    {
     "name": "stdout",
     "output_type": "stream",
     "text": [
      "distinct values in engine: 1096\n"
     ]
    },
    {
     "name": "stderr",
     "output_type": "stream",
     "text": [
      "                                                                                "
     ]
    },
    {
     "name": "stdout",
     "output_type": "stream",
     "text": [
      "distinct values in transmission: 52\n"
     ]
    },
    {
     "name": "stderr",
     "output_type": "stream",
     "text": [
      "                                                                                "
     ]
    },
    {
     "name": "stdout",
     "output_type": "stream",
     "text": [
      "distinct values in ext_col: 307\n"
     ]
    },
    {
     "name": "stderr",
     "output_type": "stream",
     "text": [
      "                                                                                "
     ]
    },
    {
     "name": "stdout",
     "output_type": "stream",
     "text": [
      "distinct values in int_col: 154\n"
     ]
    },
    {
     "name": "stderr",
     "output_type": "stream",
     "text": [
      "                                                                                "
     ]
    },
    {
     "name": "stdout",
     "output_type": "stream",
     "text": [
      "distinct values in accident: 2\n"
     ]
    },
    {
     "name": "stderr",
     "output_type": "stream",
     "text": [
      "                                                                                "
     ]
    },
    {
     "name": "stdout",
     "output_type": "stream",
     "text": [
      "distinct values in clean_title: 1\n"
     ]
    },
    {
     "name": "stderr",
     "output_type": "stream",
     "text": [
      "[Stage 962:>                                                        (0 + 1) / 1]"
     ]
    },
    {
     "name": "stdout",
     "output_type": "stream",
     "text": [
      "distinct values in price: 1277\n"
     ]
    },
    {
     "name": "stderr",
     "output_type": "stream",
     "text": [
      "                                                                                "
     ]
    }
   ],
   "source": [
    "column_names = df.columns\n",
    "print(column_names)\n",
    "\n",
    "for column_name in column_names:\n",
    "    df_brand = df.select(column_name)\n",
    "    print(f\"distinct values in {column_name}: {df_brand.distinct().count()}\")"
   ]
  },
  {
   "cell_type": "code",
   "execution_count": 104,
   "id": "5a8f4e431fb712ed",
   "metadata": {
    "ExecuteTime": {
     "end_time": "2024-12-16T22:35:33.053834Z",
     "start_time": "2024-12-16T22:35:32.813476Z"
    }
   },
   "outputs": [
    {
     "name": "stdout",
     "output_type": "stream",
     "text": [
      "+---+-------------+----------+--------+-------------+------------------------------+------------------------------+-------+--------------------------------------+-----------+-----+---------------+-----------------+\n",
      "|id |brand        |model_year|milage  |fuel_type    |transmission                  |ext_col                       |int_col|accident                              |clean_title|price|engine_capacity|engine_horsepower|\n",
      "+---+-------------+----------+--------+-------------+------------------------------+------------------------------+-------+--------------------------------------+-----------+-----+---------------+-----------------+\n",
      "|1  |Lincoln      |2002      |143250.0|Gasoline     |A/T                           |Silver                        |Beige  |At least 1 accident or damage reported|Yes        |4999 |3.9            |252.0            |\n",
      "|2  |Chevrolet    |2002      |136731.0|E85 Flex Fuel|A/T                           |Blue                          |Gray   |None reported                         |Yes        |13900|5.3            |320.0            |\n",
      "|3  |Genesis      |2017      |19500.0 |Gasoline     |Transmission w/Dual Shift Mode|Black                         |Black  |None reported                         |Yes        |45000|5.0            |420.0            |\n",
      "|5  |Audi         |2018      |40950.0 |Gasoline     |A/T                           |White                         |–      |None reported                         |Yes        |29950|2.0            |252.0            |\n",
      "|6  |Audi         |2016      |62200.0 |Gasoline     |8-Speed A/T                   |Black                         |Black  |None reported                         |Yes        |28500|3.0            |333.0            |\n",
      "|7  |Chevrolet    |2016      |102604.0|E85 Flex Fuel|A/T                           |White                         |Gray   |None reported                         |Yes        |12500|5.3            |355.0            |\n",
      "|8  |Ford         |2020      |38352.0 |Gasoline     |10-Speed Automatic            |Snowflake White Pearl Metallic|Black  |None reported                         |Yes        |62890|2.7            |                 |\n",
      "|9  |BMW          |2015      |74850.0 |Gasoline     |Transmission w/Dual Shift Mode|Black                         |Blue   |None reported                         |Yes        |4000 |3.0            |425.0            |\n",
      "|12 |Cadillac     |2017      |93971.0 |Gasoline     |6-Speed A/T                   |White                         |Black  |None reported                         |Yes        |51500|6.2            |420.0            |\n",
      "|13 |Audi         |2013      |60000.0 |Gasoline     |A/T                           |Black                         |Black  |At least 1 accident or damage reported|Yes        |12300|3.0            |333.0            |\n",
      "|14 |Land         |2023      |20000.0 |Gasoline     |A/T                           |Black                         |Black  |None reported                         |Yes        |56900|4.4            |523.0            |\n",
      "|15 |Mercedes-Benz|2017      |41500.0 |Gasoline     |7-Speed A/T                   |White                         |Black  |None reported                         |Yes        |44900|4.0            |503.0            |\n",
      "|16 |GMC          |2021      |15000.0 |Gasoline     |10-Speed A/T                  |Green                         |Beige  |None reported                         |Yes        |68500|6.2            |420.0            |\n",
      "|17 |Land         |2021      |46100.0 |Hybrid       |8-Speed A/T                   |Gray                          |Black  |None reported                         |Yes        |55000|3.0            |395.0            |\n",
      "|18 |Toyota       |2011      |153250.0|Gasoline     |7-Speed A/T                   |Gray                          |Gray   |At least 1 accident or damage reported|Yes        |9999 |4.6            |310.0            |\n",
      "|19 |Mercedes-Benz|2019      |16002.0 |Gasoline     |9-Speed A/T                   |White                         |Red    |At least 1 accident or damage reported|Yes        |46900|4.0            |469.0            |\n",
      "|21 |Hyundai      |2016      |87092.0 |Gasoline     |8-Speed A/T                   |Black                         |Black  |None reported                         |Yes        |16500|5.0            |429.0            |\n",
      "|22 |Ford         |2012      |154247.0|Gasoline     |6-Speed A/T                   |Gray                          |Black  |At least 1 accident or damage reported|Yes        |9900 |3.7            |210.0            |\n",
      "|23 |Audi         |2018      |51000.0 |Hybrid       |Transmission w/Dual Shift Mode|White                         |Beige  |None reported                         |Yes        |76000|3.0            |335.0            |\n",
      "|24 |Volvo        |2014      |100680.0|Gasoline     |6-Speed A/T                   |Black                         |Beige  |At least 1 accident or damage reported|Yes        |33687|2.0            |316.0            |\n",
      "+---+-------------+----------+--------+-------------+------------------------------+------------------------------+-------+--------------------------------------+-----------+-----+---------------+-----------------+\n",
      "only showing top 20 rows\n",
      "\n"
     ]
    }
   ],
   "source": [
    "df = df.drop(\"model\")\n",
    "\n",
    "pattern_engine_capacity = r\"(\\d+\\.\\d+)L\"\n",
    "patter_horsepower = r\"(\\d+\\.\\d+)HP\"\n",
    "\n",
    "# Extract the number before 'L'\n",
    "df_extracted_capacity = df.withColumn(\"engine_capacity\", F.regexp_extract(\"engine\", pattern_engine_capacity, 1))\n",
    "df_extracted_horsepower = df_extracted_capacity.withColumn(\"engine_horsepower\", F.regexp_extract(\"engine\", patter_horsepower, 1))\n",
    "# Show the result\n",
    "df_extracted_horsepower = df_extracted_horsepower.drop(\"engine\")\n",
    "df_extracted_horsepower.show(truncate=False)"
   ]
  },
  {
   "cell_type": "code",
   "execution_count": 105,
   "id": "91b196ff0f034108",
   "metadata": {
    "ExecuteTime": {
     "end_time": "2024-12-16T22:35:38.687094Z",
     "start_time": "2024-12-16T22:35:35.268324Z"
    }
   },
   "outputs": [
    {
     "name": "stderr",
     "output_type": "stream",
     "text": [
      "                                                                                "
     ]
    },
    {
     "name": "stdout",
     "output_type": "stream",
     "text": [
      "147857\n"
     ]
    },
    {
     "name": "stderr",
     "output_type": "stream",
     "text": [
      "                                                                                "
     ]
    },
    {
     "name": "stdout",
     "output_type": "stream",
     "text": [
      "without empty engine capacity rows 146299\n"
     ]
    },
    {
     "name": "stderr",
     "output_type": "stream",
     "text": [
      "[Stage 975:>                                                        (0 + 1) / 1]"
     ]
    },
    {
     "name": "stdout",
     "output_type": "stream",
     "text": [
      "without empty engine horsepower rows 135622\n",
      "+---+-------------+----------+--------+-------------+--------------------+-------+-------+--------------------+-----------+-----+---------------+-----------------+\n",
      "| id|        brand|model_year|  milage|    fuel_type|        transmission|ext_col|int_col|            accident|clean_title|price|engine_capacity|engine_horsepower|\n",
      "+---+-------------+----------+--------+-------------+--------------------+-------+-------+--------------------+-----------+-----+---------------+-----------------+\n",
      "|  1|      Lincoln|      2002|143250.0|     Gasoline|                 A/T| Silver|  Beige|At least 1 accide...|        Yes| 4999|            3.9|            252.0|\n",
      "|  2|    Chevrolet|      2002|136731.0|E85 Flex Fuel|                 A/T|   Blue|   Gray|       None reported|        Yes|13900|            5.3|            320.0|\n",
      "|  3|      Genesis|      2017| 19500.0|     Gasoline|Transmission w/Du...|  Black|  Black|       None reported|        Yes|45000|            5.0|            420.0|\n",
      "|  5|         Audi|      2018| 40950.0|     Gasoline|                 A/T|  White|      –|       None reported|        Yes|29950|            2.0|            252.0|\n",
      "|  6|         Audi|      2016| 62200.0|     Gasoline|         8-Speed A/T|  Black|  Black|       None reported|        Yes|28500|            3.0|            333.0|\n",
      "|  7|    Chevrolet|      2016|102604.0|E85 Flex Fuel|                 A/T|  White|   Gray|       None reported|        Yes|12500|            5.3|            355.0|\n",
      "|  9|          BMW|      2015| 74850.0|     Gasoline|Transmission w/Du...|  Black|   Blue|       None reported|        Yes| 4000|            3.0|            425.0|\n",
      "| 12|     Cadillac|      2017| 93971.0|     Gasoline|         6-Speed A/T|  White|  Black|       None reported|        Yes|51500|            6.2|            420.0|\n",
      "| 13|         Audi|      2013| 60000.0|     Gasoline|                 A/T|  Black|  Black|At least 1 accide...|        Yes|12300|            3.0|            333.0|\n",
      "| 14|         Land|      2023| 20000.0|     Gasoline|                 A/T|  Black|  Black|       None reported|        Yes|56900|            4.4|            523.0|\n",
      "| 15|Mercedes-Benz|      2017| 41500.0|     Gasoline|         7-Speed A/T|  White|  Black|       None reported|        Yes|44900|            4.0|            503.0|\n",
      "| 16|          GMC|      2021| 15000.0|     Gasoline|        10-Speed A/T|  Green|  Beige|       None reported|        Yes|68500|            6.2|            420.0|\n",
      "| 17|         Land|      2021| 46100.0|       Hybrid|         8-Speed A/T|   Gray|  Black|       None reported|        Yes|55000|            3.0|            395.0|\n",
      "| 18|       Toyota|      2011|153250.0|     Gasoline|         7-Speed A/T|   Gray|   Gray|At least 1 accide...|        Yes| 9999|            4.6|            310.0|\n",
      "| 19|Mercedes-Benz|      2019| 16002.0|     Gasoline|         9-Speed A/T|  White|    Red|At least 1 accide...|        Yes|46900|            4.0|            469.0|\n",
      "| 21|      Hyundai|      2016| 87092.0|     Gasoline|         8-Speed A/T|  Black|  Black|       None reported|        Yes|16500|            5.0|            429.0|\n",
      "| 22|         Ford|      2012|154247.0|     Gasoline|         6-Speed A/T|   Gray|  Black|At least 1 accide...|        Yes| 9900|            3.7|            210.0|\n",
      "| 23|         Audi|      2018| 51000.0|       Hybrid|Transmission w/Du...|  White|  Beige|       None reported|        Yes|76000|            3.0|            335.0|\n",
      "| 24|        Volvo|      2014|100680.0|     Gasoline|         6-Speed A/T|  Black|  Beige|At least 1 accide...|        Yes|33687|            2.0|            316.0|\n",
      "| 25|       Toyota|      2013|183000.0|     Gasoline|         6-Speed A/T|  Black|   Gray|       None reported|        Yes|29000|            5.7|            381.0|\n",
      "+---+-------------+----------+--------+-------------+--------------------+-------+-------+--------------------+-----------+-----+---------------+-----------------+\n",
      "only showing top 20 rows\n",
      "\n"
     ]
    },
    {
     "name": "stderr",
     "output_type": "stream",
     "text": [
      "                                                                                "
     ]
    }
   ],
   "source": [
    "print(df_extracted_horsepower.count())\n",
    "df_filtered = df_extracted_horsepower.filter(col(\"engine_capacity\") != \"\")\n",
    "print(f\"without empty engine capacity rows {df_filtered.count()}\")\n",
    "df_filtered = df_filtered.filter(col(\"engine_horsepower\") != \"\")\n",
    "print(f\"without empty engine horsepower rows {df_filtered.count()}\")\n",
    "df_filtered.show()"
   ]
  },
  {
   "cell_type": "code",
   "execution_count": 106,
   "id": "3c1b16a198c7e37c",
   "metadata": {
    "ExecuteTime": {
     "end_time": "2024-12-16T22:35:41.603250Z",
     "start_time": "2024-12-16T22:35:41.296905Z"
    }
   },
   "outputs": [
    {
     "name": "stdout",
     "output_type": "stream",
     "text": [
      "+---+-------------+----------+--------+-------------+------------+-------+-------+--------------------+-----------+-----+---------------+-----------------+\n",
      "| id|        brand|model_year|  milage|    fuel_type|transmission|ext_col|int_col|            accident|clean_title|price|engine_capacity|engine_horsepower|\n",
      "+---+-------------+----------+--------+-------------+------------+-------+-------+--------------------+-----------+-----+---------------+-----------------+\n",
      "|  1|      Lincoln|      2002|143250.0|     Gasoline|   Automatic| Silver|  Beige|At least 1 accide...|        Yes| 4999|            3.9|            252.0|\n",
      "|  2|    Chevrolet|      2002|136731.0|E85 Flex Fuel|   Automatic|   Blue|   Gray|       None reported|        Yes|13900|            5.3|            320.0|\n",
      "|  3|      Genesis|      2017| 19500.0|     Gasoline|       Other|  Black|  Black|       None reported|        Yes|45000|            5.0|            420.0|\n",
      "|  5|         Audi|      2018| 40950.0|     Gasoline|   Automatic|  White|      –|       None reported|        Yes|29950|            2.0|            252.0|\n",
      "|  6|         Audi|      2016| 62200.0|     Gasoline|   Automatic|  Black|  Black|       None reported|        Yes|28500|            3.0|            333.0|\n",
      "|  7|    Chevrolet|      2016|102604.0|E85 Flex Fuel|   Automatic|  White|   Gray|       None reported|        Yes|12500|            5.3|            355.0|\n",
      "|  9|          BMW|      2015| 74850.0|     Gasoline|       Other|  Black|   Blue|       None reported|        Yes| 4000|            3.0|            425.0|\n",
      "| 12|     Cadillac|      2017| 93971.0|     Gasoline|   Automatic|  White|  Black|       None reported|        Yes|51500|            6.2|            420.0|\n",
      "| 13|         Audi|      2013| 60000.0|     Gasoline|   Automatic|  Black|  Black|At least 1 accide...|        Yes|12300|            3.0|            333.0|\n",
      "| 14|         Land|      2023| 20000.0|     Gasoline|   Automatic|  Black|  Black|       None reported|        Yes|56900|            4.4|            523.0|\n",
      "| 15|Mercedes-Benz|      2017| 41500.0|     Gasoline|   Automatic|  White|  Black|       None reported|        Yes|44900|            4.0|            503.0|\n",
      "| 16|          GMC|      2021| 15000.0|     Gasoline|   Automatic|  Green|  Beige|       None reported|        Yes|68500|            6.2|            420.0|\n",
      "| 17|         Land|      2021| 46100.0|       Hybrid|   Automatic|   Gray|  Black|       None reported|        Yes|55000|            3.0|            395.0|\n",
      "| 18|       Toyota|      2011|153250.0|     Gasoline|   Automatic|   Gray|   Gray|At least 1 accide...|        Yes| 9999|            4.6|            310.0|\n",
      "| 19|Mercedes-Benz|      2019| 16002.0|     Gasoline|   Automatic|  White|    Red|At least 1 accide...|        Yes|46900|            4.0|            469.0|\n",
      "| 21|      Hyundai|      2016| 87092.0|     Gasoline|   Automatic|  Black|  Black|       None reported|        Yes|16500|            5.0|            429.0|\n",
      "| 22|         Ford|      2012|154247.0|     Gasoline|   Automatic|   Gray|  Black|At least 1 accide...|        Yes| 9900|            3.7|            210.0|\n",
      "| 23|         Audi|      2018| 51000.0|       Hybrid|       Other|  White|  Beige|       None reported|        Yes|76000|            3.0|            335.0|\n",
      "| 24|        Volvo|      2014|100680.0|     Gasoline|   Automatic|  Black|  Beige|At least 1 accide...|        Yes|33687|            2.0|            316.0|\n",
      "| 25|       Toyota|      2013|183000.0|     Gasoline|   Automatic|  Black|   Gray|       None reported|        Yes|29000|            5.7|            381.0|\n",
      "+---+-------------+----------+--------+-------------+------------+-------+-------+--------------------+-----------+-----+---------------+-----------------+\n",
      "only showing top 20 rows\n",
      "\n"
     ]
    }
   ],
   "source": [
    "df_replaced = df_filtered.withColumn(\n",
    "    \"transmission\",\n",
    "    F.when(F.lower(F.col(\"transmission\")).rlike(\"a/t|automatic\"),\"Automatic\")\n",
    "    .when(F.lower(F.col(\"transmission\")).rlike(\"m/t|manual\"),\"Manual\")\n",
    "    .when(F.lower(F.col(\"transmission\")).rlike(\"cvt|variator\"),\"Variator\")\n",
    "    .when(F.lower(F.col(\"transmission\")).rlike(\"tiptronic\"),\"Tiptronic\")\n",
    "    .otherwise(\"Other\")\n",
    ")\n",
    "df_replaced.show()\n"
   ]
  },
  {
   "cell_type": "code",
   "execution_count": 107,
   "id": "9c3c8540f4d0a324",
   "metadata": {
    "ExecuteTime": {
     "end_time": "2024-12-16T22:36:01.077286Z",
     "start_time": "2024-12-16T22:35:42.614793Z"
    }
   },
   "outputs": [
    {
     "name": "stdout",
     "output_type": "stream",
     "text": [
      "['id', 'brand', 'model_year', 'milage', 'fuel_type', 'transmission', 'ext_col', 'int_col', 'accident', 'clean_title', 'price', 'engine_capacity', 'engine_horsepower']\n"
     ]
    },
    {
     "name": "stderr",
     "output_type": "stream",
     "text": [
      "                                                                                "
     ]
    },
    {
     "name": "stdout",
     "output_type": "stream",
     "text": [
      "distinct values in id: 135622\n"
     ]
    },
    {
     "name": "stderr",
     "output_type": "stream",
     "text": [
      "                                                                                "
     ]
    },
    {
     "name": "stdout",
     "output_type": "stream",
     "text": [
      "distinct values in brand: 56\n"
     ]
    },
    {
     "name": "stderr",
     "output_type": "stream",
     "text": [
      "                                                                                "
     ]
    },
    {
     "name": "stdout",
     "output_type": "stream",
     "text": [
      "distinct values in model_year: 33\n"
     ]
    },
    {
     "name": "stderr",
     "output_type": "stream",
     "text": [
      "                                                                                "
     ]
    },
    {
     "name": "stdout",
     "output_type": "stream",
     "text": [
      "distinct values in milage: 4919\n"
     ]
    },
    {
     "name": "stderr",
     "output_type": "stream",
     "text": [
      "                                                                                "
     ]
    },
    {
     "name": "stdout",
     "output_type": "stream",
     "text": [
      "distinct values in fuel_type: 7\n"
     ]
    },
    {
     "name": "stderr",
     "output_type": "stream",
     "text": [
      "                                                                                "
     ]
    },
    {
     "name": "stdout",
     "output_type": "stream",
     "text": [
      "distinct values in transmission: 4\n"
     ]
    },
    {
     "name": "stderr",
     "output_type": "stream",
     "text": [
      "                                                                                "
     ]
    },
    {
     "name": "stdout",
     "output_type": "stream",
     "text": [
      "distinct values in ext_col: 64\n"
     ]
    },
    {
     "name": "stderr",
     "output_type": "stream",
     "text": [
      "                                                                                "
     ]
    },
    {
     "name": "stdout",
     "output_type": "stream",
     "text": [
      "distinct values in int_col: 68\n"
     ]
    },
    {
     "name": "stderr",
     "output_type": "stream",
     "text": [
      "                                                                                "
     ]
    },
    {
     "name": "stdout",
     "output_type": "stream",
     "text": [
      "distinct values in accident: 2\n"
     ]
    },
    {
     "name": "stderr",
     "output_type": "stream",
     "text": [
      "                                                                                "
     ]
    },
    {
     "name": "stdout",
     "output_type": "stream",
     "text": [
      "distinct values in clean_title: 1\n"
     ]
    },
    {
     "name": "stderr",
     "output_type": "stream",
     "text": [
      "                                                                                "
     ]
    },
    {
     "name": "stdout",
     "output_type": "stream",
     "text": [
      "distinct values in price: 1219\n"
     ]
    },
    {
     "name": "stderr",
     "output_type": "stream",
     "text": [
      "                                                                                "
     ]
    },
    {
     "name": "stdout",
     "output_type": "stream",
     "text": [
      "distinct values in engine_capacity: 59\n"
     ]
    },
    {
     "name": "stderr",
     "output_type": "stream",
     "text": [
      "[Stage 1052:>                                                       (0 + 1) / 1]"
     ]
    },
    {
     "name": "stdout",
     "output_type": "stream",
     "text": [
      "distinct values in engine_horsepower: 333\n"
     ]
    },
    {
     "name": "stderr",
     "output_type": "stream",
     "text": [
      "                                                                                "
     ]
    }
   ],
   "source": [
    "column_names = df_replaced.columns\n",
    "print(column_names)\n",
    "\n",
    "for column_name in column_names:\n",
    "    df_brand = df_replaced.select(column_name)\n",
    "    print(f\"distinct values in {column_name}: {df_brand.distinct().count()}\")"
   ]
  },
  {
   "cell_type": "code",
   "execution_count": 108,
   "id": "c74d84a42c1b5e7b",
   "metadata": {
    "ExecuteTime": {
     "end_time": "2024-12-16T22:36:16.226726Z",
     "start_time": "2024-12-16T22:36:11.777081Z"
    }
   },
   "outputs": [
    {
     "name": "stderr",
     "output_type": "stream",
     "text": [
      "                                                                                "
     ]
    },
    {
     "name": "stdout",
     "output_type": "stream",
     "text": [
      "+-------------+----------+--------+-------------+------------+-------+-------+--------------------+-----+---------------+-----------------+\n",
      "|        brand|model_year|  milage|    fuel_type|transmission|ext_col|int_col|            accident|price|engine_capacity|engine_horsepower|\n",
      "+-------------+----------+--------+-------------+------------+-------+-------+--------------------+-----+---------------+-----------------+\n",
      "|      Lincoln|      2002|143250.0|     Gasoline|   Automatic| Silver|  Beige|At least 1 accide...| 4999|            3.9|            252.0|\n",
      "|    Chevrolet|      2002|136731.0|E85 Flex Fuel|   Automatic|   Blue|   Gray|       None reported|13900|            5.3|            320.0|\n",
      "|      Genesis|      2017| 19500.0|     Gasoline|       Other|  Black|  Black|       None reported|45000|            5.0|            420.0|\n",
      "|         Audi|      2018| 40950.0|     Gasoline|   Automatic|  White|      –|       None reported|29950|            2.0|            252.0|\n",
      "|         Audi|      2016| 62200.0|     Gasoline|   Automatic|  Black|  Black|       None reported|28500|            3.0|            333.0|\n",
      "|    Chevrolet|      2016|102604.0|E85 Flex Fuel|   Automatic|  White|   Gray|       None reported|12500|            5.3|            355.0|\n",
      "|          BMW|      2015| 74850.0|     Gasoline|       Other|  Black|   Blue|       None reported| 4000|            3.0|            425.0|\n",
      "|     Cadillac|      2017| 93971.0|     Gasoline|   Automatic|  White|  Black|       None reported|51500|            6.2|            420.0|\n",
      "|         Audi|      2013| 60000.0|     Gasoline|   Automatic|  Black|  Black|At least 1 accide...|12300|            3.0|            333.0|\n",
      "|         Land|      2023| 20000.0|     Gasoline|   Automatic|  Black|  Black|       None reported|56900|            4.4|            523.0|\n",
      "|Mercedes-Benz|      2017| 41500.0|     Gasoline|   Automatic|  White|  Black|       None reported|44900|            4.0|            503.0|\n",
      "|          GMC|      2021| 15000.0|     Gasoline|   Automatic|  Green|  Beige|       None reported|68500|            6.2|            420.0|\n",
      "|         Land|      2021| 46100.0|       Hybrid|   Automatic|   Gray|  Black|       None reported|55000|            3.0|            395.0|\n",
      "|       Toyota|      2011|153250.0|     Gasoline|   Automatic|   Gray|   Gray|At least 1 accide...| 9999|            4.6|            310.0|\n",
      "|Mercedes-Benz|      2019| 16002.0|     Gasoline|   Automatic|  White|    Red|At least 1 accide...|46900|            4.0|            469.0|\n",
      "|      Hyundai|      2016| 87092.0|     Gasoline|   Automatic|  Black|  Black|       None reported|16500|            5.0|            429.0|\n",
      "|         Ford|      2012|154247.0|     Gasoline|   Automatic|   Gray|  Black|At least 1 accide...| 9900|            3.7|            210.0|\n",
      "|         Audi|      2018| 51000.0|       Hybrid|       Other|  White|  Beige|       None reported|76000|            3.0|            335.0|\n",
      "|        Volvo|      2014|100680.0|     Gasoline|   Automatic|  Black|  Beige|At least 1 accide...|33687|            2.0|            316.0|\n",
      "|       Toyota|      2013|183000.0|     Gasoline|   Automatic|  Black|   Gray|       None reported|29000|            5.7|            381.0|\n",
      "+-------------+----------+--------+-------------+------------+-------+-------+--------------------+-----+---------------+-----------------+\n",
      "only showing top 20 rows\n",
      "\n"
     ]
    }
   ],
   "source": [
    "df = df_replaced.drop(\"clean_title\")\n",
    "df = df.drop(\"id\")\n",
    "df.toPandas().to_csv(\"preprocessed_datasets/clean_data.csv\",header=True,index=False)\n",
    "df.show()"
   ]
  },
  {
   "cell_type": "markdown",
   "id": "1ddea71bdb80a446",
   "metadata": {},
   "source": [
    "### Factorizing data, creating numbers from strings"
   ]
  },
  {
   "cell_type": "code",
   "execution_count": 109,
   "id": "9ecdbb2f6a82b03f",
   "metadata": {
    "ExecuteTime": {
     "end_time": "2024-12-16T22:36:32.706574Z",
     "start_time": "2024-12-16T22:36:23.117185Z"
    }
   },
   "outputs": [
    {
     "name": "stderr",
     "output_type": "stream",
     "text": [
      "                                                                                "
     ]
    }
   ],
   "source": [
    "# Manually specifying categorical columns\n",
    "categorical_columns = [\"brand\", \"transmission\",\"fuel_type\", \"ext_col\", \"int_col\", \"accident\"]\n",
    "\n",
    "# Apply StringIndexer only to selected columns\n",
    "indexers = [StringIndexer(inputCol=col, outputCol=col + \"_numeric\") for col in categorical_columns]\n",
    "\n",
    "# Create a Pipeline to apply the indexers\n",
    "indexer_pipeline = Pipeline(stages=indexers)\n",
    "\n",
    "# Fit the pipeline to the DataFrame\n",
    "fitted_pipeline = indexer_pipeline.fit(df)\n",
    "\n",
    "# Apply the transformation\n",
    "df_indexed = fitted_pipeline.transform(df)"
   ]
  },
  {
   "cell_type": "code",
   "execution_count": 110,
   "id": "9fa2f64be43e15ae",
   "metadata": {
    "ExecuteTime": {
     "end_time": "2024-12-16T22:36:43.174722Z",
     "start_time": "2024-12-16T22:36:42.604329Z"
    }
   },
   "outputs": [
    {
     "name": "stdout",
     "output_type": "stream",
     "text": [
      "+---------+----------+--------+-------------+------------+-------+-------+--------------------+-----+---------------+-----------------+-------------+--------------------+-----------------+---------------+---------------+----------------+\n",
      "|    brand|model_year|  milage|    fuel_type|transmission|ext_col|int_col|            accident|price|engine_capacity|engine_horsepower|brand_numeric|transmission_numeric|fuel_type_numeric|ext_col_numeric|int_col_numeric|accident_numeric|\n",
      "+---------+----------+--------+-------------+------------+-------+-------+--------------------+-----+---------------+-----------------+-------------+--------------------+-----------------+---------------+---------------+----------------+\n",
      "|  Lincoln|      2002|143250.0|     Gasoline|   Automatic| Silver|  Beige|At least 1 accide...| 4999|            3.9|            252.0|         17.0|                 0.0|              0.0|            3.0|            1.0|             1.0|\n",
      "|Chevrolet|      2002|136731.0|E85 Flex Fuel|   Automatic|   Blue|   Gray|       None reported|13900|            5.3|            320.0|          3.0|                 0.0|              1.0|            4.0|            2.0|             0.0|\n",
      "|  Genesis|      2017| 19500.0|     Gasoline|       Other|  Black|  Black|       None reported|45000|            5.0|            420.0|         26.0|                 1.0|              0.0|            0.0|            0.0|             0.0|\n",
      "|     Audi|      2018| 40950.0|     Gasoline|   Automatic|  White|      –|       None reported|29950|            2.0|            252.0|          4.0|                 0.0|              0.0|            1.0|            5.0|             0.0|\n",
      "|     Audi|      2016| 62200.0|     Gasoline|   Automatic|  Black|  Black|       None reported|28500|            3.0|            333.0|          4.0|                 0.0|              0.0|            0.0|            0.0|             0.0|\n",
      "+---------+----------+--------+-------------+------------+-------+-------+--------------------+-----+---------------+-----------------+-------------+--------------------+-----------------+---------------+---------------+----------------+\n",
      "only showing top 5 rows\n",
      "\n"
     ]
    }
   ],
   "source": [
    "df_indexed.show(5)"
   ]
  },
  {
   "cell_type": "code",
   "execution_count": 111,
   "id": "eda7d03920086105",
   "metadata": {
    "ExecuteTime": {
     "end_time": "2024-12-16T22:36:50.481207Z",
     "start_time": "2024-12-16T22:36:50.465218Z"
    }
   },
   "outputs": [],
   "source": [
    "df_indexed = df_indexed.drop(\"brand\", \"transmission\",\"fuel_type\", \"ext_col\", \"int_col\", \"accident\",\"id\")"
   ]
  },
  {
   "cell_type": "markdown",
   "id": "e8db42079cad2dee",
   "metadata": {},
   "source": []
  },
  {
   "cell_type": "code",
   "execution_count": 112,
   "id": "cffa4b34b4ea29f",
   "metadata": {
    "ExecuteTime": {
     "end_time": "2024-12-16T22:36:54.600909Z",
     "start_time": "2024-12-16T22:36:54.365813Z"
    }
   },
   "outputs": [
    {
     "name": "stdout",
     "output_type": "stream",
     "text": [
      "+----------+--------+-----+---------------+-----------------+-------------+--------------------+-----------------+---------------+---------------+----------------+\n",
      "|model_year|  milage|price|engine_capacity|engine_horsepower|brand_numeric|transmission_numeric|fuel_type_numeric|ext_col_numeric|int_col_numeric|accident_numeric|\n",
      "+----------+--------+-----+---------------+-----------------+-------------+--------------------+-----------------+---------------+---------------+----------------+\n",
      "|      2002|143250.0| 4999|            3.9|            252.0|         17.0|                 0.0|              0.0|            3.0|            1.0|             1.0|\n",
      "|      2002|136731.0|13900|            5.3|            320.0|          3.0|                 0.0|              1.0|            4.0|            2.0|             0.0|\n",
      "|      2017| 19500.0|45000|            5.0|            420.0|         26.0|                 1.0|              0.0|            0.0|            0.0|             0.0|\n",
      "|      2018| 40950.0|29950|            2.0|            252.0|          4.0|                 0.0|              0.0|            1.0|            5.0|             0.0|\n",
      "|      2016| 62200.0|28500|            3.0|            333.0|          4.0|                 0.0|              0.0|            0.0|            0.0|             0.0|\n",
      "+----------+--------+-----+---------------+-----------------+-------------+--------------------+-----------------+---------------+---------------+----------------+\n",
      "only showing top 5 rows\n",
      "\n"
     ]
    }
   ],
   "source": [
    "df_indexed.show(5)"
   ]
  },
  {
   "cell_type": "code",
   "execution_count": 113,
   "id": "6a75aadd5955cc24",
   "metadata": {
    "ExecuteTime": {
     "end_time": "2024-12-16T22:37:00.117655Z",
     "start_time": "2024-12-16T22:36:56.644654Z"
    }
   },
   "outputs": [
    {
     "name": "stderr",
     "output_type": "stream",
     "text": [
      "                                                                                "
     ]
    }
   ],
   "source": [
    "df_indexed.toPandas().to_csv(\"preprocessed_datasets/factorized_data.csv\",index=False,header=True)"
   ]
  },
  {
   "cell_type": "code",
   "execution_count": 114,
   "id": "35ff81186be3d180",
   "metadata": {
    "ExecuteTime": {
     "end_time": "2024-12-16T22:37:11.628865Z",
     "start_time": "2024-12-16T22:37:11.520048Z"
    }
   },
   "outputs": [
    {
     "name": "stdout",
     "output_type": "stream",
     "text": [
      "{\n",
      "    \"brand\": [\n",
      "        \"Ford\",\n",
      "        \"BMW\",\n",
      "        \"Mercedes-Benz\",\n",
      "        \"Chevrolet\",\n",
      "        \"Audi\",\n",
      "        \"Lexus\",\n",
      "        \"Land\",\n",
      "        \"Porsche\",\n",
      "        \"Toyota\",\n",
      "        \"Jeep\",\n",
      "        \"Cadillac\",\n",
      "        \"Nissan\",\n",
      "        \"INFINITI\",\n",
      "        \"GMC\",\n",
      "        \"Dodge\",\n",
      "        \"Subaru\",\n",
      "        \"RAM\",\n",
      "        \"Lincoln\",\n",
      "        \"Honda\",\n",
      "        \"Mazda\",\n",
      "        \"Hyundai\",\n",
      "        \"Acura\",\n",
      "        \"Volkswagen\",\n",
      "        \"Kia\",\n",
      "        \"MINI\",\n",
      "        \"Jaguar\",\n",
      "        \"Genesis\",\n",
      "        \"Maserati\",\n",
      "        \"Chrysler\",\n",
      "        \"Volvo\",\n",
      "        \"Pontiac\",\n",
      "        \"Mitsubishi\",\n",
      "        \"Bentley\",\n",
      "        \"Hummer\",\n",
      "        \"Buick\",\n",
      "        \"Alfa\",\n",
      "        \"Rolls-Royce\",\n",
      "        \"Lamborghini\",\n",
      "        \"Saturn\",\n",
      "        \"Aston\",\n",
      "        \"Ferrari\",\n",
      "        \"Scion\",\n",
      "        \"McLaren\",\n",
      "        \"Mercury\",\n",
      "        \"Lotus\",\n",
      "        \"FIAT\",\n",
      "        \"Saab\",\n",
      "        \"Tesla\",\n",
      "        \"Lucid\",\n",
      "        \"Rivian\",\n",
      "        \"Suzuki\",\n",
      "        \"Karma\",\n",
      "        \"Plymouth\",\n",
      "        \"Maybach\",\n",
      "        \"Polestar\",\n",
      "        \"smart\"\n",
      "    ],\n",
      "    \"transmission\": [\n",
      "        \"Automatic\",\n",
      "        \"Other\",\n",
      "        \"Manual\",\n",
      "        \"Variator\"\n",
      "    ],\n",
      "    \"fuel_type\": [\n",
      "        \"Gasoline\",\n",
      "        \"E85 Flex Fuel\",\n",
      "        \"Hybrid\",\n",
      "        \"Diesel\",\n",
      "        \"Plug-In Hybrid\",\n",
      "        \"not supported\",\n",
      "        \"\\u2013\"\n",
      "    ],\n",
      "    \"ext_col\": [\n",
      "        \"Black\",\n",
      "        \"White\",\n",
      "        \"Gray\",\n",
      "        \"Silver\",\n",
      "        \"Blue\",\n",
      "        \"Red\",\n",
      "        \"Green\",\n",
      "        \"Gold\",\n",
      "        \"Brown\",\n",
      "        \"Beige\",\n",
      "        \"Orange\",\n",
      "        \"Yellow\",\n",
      "        \"Purple\",\n",
      "        \"\\u2013\",\n",
      "        \"Pink\",\n",
      "        \"Blu\",\n",
      "        \"Diamond Black\",\n",
      "        \"Black Clearcoat\",\n",
      "        \"Black Obsidian\",\n",
      "        \"Iridium Metallic\",\n",
      "        \"White Knuckle Clearcoat\",\n",
      "        \"BLACK\",\n",
      "        \"Black Sapphire Metallic\",\n",
      "        \"Bright White Clearcoat\",\n",
      "        \"Ebony Twilight Metallic\",\n",
      "        \"Moonlight Cloud\",\n",
      "        \"Silver Zynith\",\n",
      "        \"Tan\",\n",
      "        \"Vega Blue\",\n",
      "        \"Agate Black Metallic\",\n",
      "        \"Alfa White\",\n",
      "        \"Atomic Silver\",\n",
      "        \"BLUE\",\n",
      "        \"Balloon White\",\n",
      "        \"Beluga Black\",\n",
      "        \"Bianco Isis\",\n",
      "        \"Dark Gray Metallic\",\n",
      "        \"Dark Slate Metallic\",\n",
      "        \"Daytona Gray Pearl Effect\",\n",
      "        \"Daytona Gray Pearl Effect w/ Black Roof\",\n",
      "        \"Delmonico Red Pearlcoat\",\n",
      "        \"Flame Red Clearcoat\",\n",
      "        \"Frozen Dark Silver Metallic\",\n",
      "        \"Graphite Grey\",\n",
      "        \"Hampton Gray\",\n",
      "        \"Ice\",\n",
      "        \"Iridium Silver Metallic\",\n",
      "        \"Liquid Platinum\",\n",
      "        \"Majestic Black Pearl\",\n",
      "        \"Majestic Plum Metallic\",\n",
      "        \"Maximum Steel Metallic\",\n",
      "        \"Phantom Black Pearl Effect / Black Roof\",\n",
      "        \"Quartz Blue Pearl\",\n",
      "        \"Red Obsession\",\n",
      "        \"Redline Red\",\n",
      "        \"Santorin Black\",\n",
      "        \"Snow White Pearl\",\n",
      "        \"Snowflake White Pearl Metallic\",\n",
      "        \"Summit White\",\n",
      "        \"Super Black\",\n",
      "        \"Thunder Gray\",\n",
      "        \"Twilight Blue Metallic\",\n",
      "        \"White Frost Tri-Coat\",\n",
      "        \"White Platinum Tri-Coat Metallic\"\n",
      "    ],\n",
      "    \"int_col\": [\n",
      "        \"Black\",\n",
      "        \"Beige\",\n",
      "        \"Gray\",\n",
      "        \"Brown\",\n",
      "        \"Red\",\n",
      "        \"\\u2013\",\n",
      "        \"White\",\n",
      "        \"Orange\",\n",
      "        \"Blue\",\n",
      "        \"Silver\",\n",
      "        \"Gold\",\n",
      "        \"Green\",\n",
      "        \"Yellow\",\n",
      "        \"Ebony\",\n",
      "        \"Jet Black\",\n",
      "        \"Tan\",\n",
      "        \"Black Onyx\",\n",
      "        \"Boulder\",\n",
      "        \"Charcoal\",\n",
      "        \"Charcoal Black\",\n",
      "        \"Graphite\",\n",
      "        \"Blk\",\n",
      "        \"Camel\",\n",
      "        \"Canberra Beige\",\n",
      "        \"Diesel Gray / Black\",\n",
      "        \"Graystone\",\n",
      "        \"Medium Dark Slate\",\n",
      "        \"Mesa\",\n",
      "        \"Nero\",\n",
      "        \"Platinum\",\n",
      "        \"BLACK\",\n",
      "        \"Black / Express Red\",\n",
      "        \"Brandy\",\n",
      "        \"Hotspur\",\n",
      "        \"Light Titanium\",\n",
      "        \"Medium Ash Gray\",\n",
      "        \"Navy Pier\",\n",
      "        \"Nero Ade\",\n",
      "        \"Parchment\",\n",
      "        \"Portland\",\n",
      "        \"White / Brown\",\n",
      "        \"Almond Beige\",\n",
      "        \"Ash\",\n",
      "        \"BEIGE\",\n",
      "        \"Black / Gray\",\n",
      "        \"Black / Saddle\",\n",
      "        \"Black w/Red Stitching\",\n",
      "        \"Charles Blue\",\n",
      "        \"Chestnut\",\n",
      "        \"Cloud\",\n",
      "        \"Dark Gray\",\n",
      "        \"Ebony.\",\n",
      "        \"Global Black\",\n",
      "        \"Gray w/Blue Bolsters\",\n",
      "        \"Ice\",\n",
      "        \"Light Platinum / Jet Black\",\n",
      "        \"Light Slate\",\n",
      "        \"Linen\",\n",
      "        \"Medium Stone\",\n",
      "        \"ORANGE\",\n",
      "        \"Obsidian Black\",\n",
      "        \"Orchid\",\n",
      "        \"Oyster/Black\",\n",
      "        \"Red / Black\",\n",
      "        \"Red/Black\",\n",
      "        \"Rioja Red\",\n",
      "        \"Sandstone\",\n",
      "        \"Sport\"\n",
      "    ],\n",
      "    \"accident\": [\n",
      "        \"None reported\",\n",
      "        \"At least 1 accident or damage reported\"\n",
      "    ]\n",
      "}\n"
     ]
    }
   ],
   "source": [
    "import json\n",
    "mappings_dict = {}\n",
    "\n",
    "for idx, col in enumerate(categorical_columns):\n",
    "    # Access the StringIndexerModel for each column\n",
    "    indexer_model = fitted_pipeline.stages[idx]\n",
    "    \n",
    "    # Get the labels (mapping) for each column\n",
    "    mapping = indexer_model.labels\n",
    "    \n",
    "    # Store the mapping in a dictionary with the column name as key\n",
    "    mappings_dict[col] = list(mapping)\n",
    "\n",
    "with open(\"column_mappings.json\", \"w\") as json_file:\n",
    "    json.dump(mappings_dict, json_file, indent=4)\n",
    "print(json.dumps(mappings_dict, indent=4))"
   ]
  }
 ],
 "metadata": {
  "kernelspec": {
   "display_name": "Python 3 (ipykernel)",
   "language": "python",
   "name": "python3"
  },
  "language_info": {
   "codemirror_mode": {
    "name": "ipython",
    "version": 3
   },
   "file_extension": ".py",
   "mimetype": "text/x-python",
   "name": "python",
   "nbconvert_exporter": "python",
   "pygments_lexer": "ipython3",
   "version": "3.12.3"
  }
 },
 "nbformat": 4,
 "nbformat_minor": 5
}
